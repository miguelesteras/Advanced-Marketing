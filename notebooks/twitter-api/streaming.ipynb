{
 "cells": [
  {
   "cell_type": "markdown",
   "metadata": {
    "button": false,
    "new_sheet": false,
    "run_control": {
     "read_only": false
    }
   },
   "source": [
    "# Twitter Streaming API  \n",
    "\n",
    "\n",
    "modified from https://realpython.com/twitter-bot-python-tweepy/  \n",
    "and https://www.storybench.org/how-to-collect-tweets-from-the-twitter-streaming-api-using-python/"
   ]
  },
  {
   "cell_type": "code",
   "execution_count": null,
   "metadata": {},
   "outputs": [],
   "source": [
    "import pandas as pd\n",
    "import matplotlib.pyplot as plt\n",
    "import tweepy\n",
    "import pathlib\n",
    "import json\n",
    "\n",
    "plt.style.use('seaborn-poster')\n",
    "%matplotlib inline"
   ]
  },
  {
   "cell_type": "markdown",
   "metadata": {},
   "source": [
    "### Authenticate credentials.  \n",
    "Note: All of the credentials will be removed after the lesson. You have to generate and use your own."
   ]
  },
  {
   "cell_type": "code",
   "execution_count": null,
   "metadata": {
    "button": false,
    "new_sheet": false,
    "run_control": {
     "read_only": false
    }
   },
   "outputs": [],
   "source": [
    "CONSUMER_KEY = ''\n",
    "CONSUMER_SECRET = ''\n",
    "ACCESS_TOKEN = ''\n",
    "ACCESS_TOKEN_SECRET = ''\n",
    "\n",
    "auth = tweepy.OAuthHandler(CONSUMER_KEY, CONSUMER_SECRET)\n",
    "auth.set_access_token(ACCESS_TOKEN, ACCESS_TOKEN_SECRET)\n",
    "\n",
    "api = tweepy.API(auth, wait_on_rate_limit=True, wait_on_rate_limit_notify=True)\n",
    "\n",
    "try:\n",
    "    api.verify_credentials()\n",
    "    print(\"Authentication OK\")\n",
    "except:\n",
    "    print(\"Error during authentication\")"
   ]
  },
  {
   "cell_type": "markdown",
   "metadata": {
    "button": false,
    "new_sheet": false,
    "run_control": {
     "read_only": false
    }
   },
   "source": [
    "Create a new tweet"
   ]
  },
  {
   "cell_type": "code",
   "execution_count": 1,
   "metadata": {
    "button": false,
    "new_sheet": false,
    "run_control": {
     "read_only": false
    }
   },
   "outputs": [
    {
     "ename": "NameError",
     "evalue": "name 'tweepy' is not defined",
     "output_type": "error",
     "traceback": [
      "\u001b[1;31m---------------------------------------------------------------------------\u001b[0m",
      "\u001b[1;31mNameError\u001b[0m                                 Traceback (most recent call last)",
      "\u001b[1;32m~\\AppData\\Local\\Temp/ipykernel_24840/879845001.py\u001b[0m in \u001b[0;36m<module>\u001b[1;34m\u001b[0m\n\u001b[0;32m      1\u001b[0m \u001b[1;31m# Create API object\u001b[0m\u001b[1;33m\u001b[0m\u001b[1;33m\u001b[0m\u001b[1;33m\u001b[0m\u001b[0m\n\u001b[1;32m----> 2\u001b[1;33m api = tweepy.API(auth, wait_on_rate_limit=True,\n\u001b[0m\u001b[0;32m      3\u001b[0m     wait_on_rate_limit_notify=True)\n",
      "\u001b[1;31mNameError\u001b[0m: name 'tweepy' is not defined"
     ]
    }
   ],
   "source": [
    "# create a new tweet\n",
    "api.update_status(\"Everything is awesome!\")"
   ]
  },
  {
   "cell_type": "markdown",
   "metadata": {},
   "source": [
    "Create a custom Streamer that saves tweets on a csv file or json"
   ]
  },
  {
   "cell_type": "code",
   "execution_count": null,
   "metadata": {},
   "outputs": [],
   "source": [
    "class MyStreamListener(tweepy.StreamListener):\n",
    "\n",
    "    def on_status(self, status):\n",
    "        print(status.id_str)\n",
    "        is_retweet = hasattr(status, \"retweeted_status\") # check if retweet.\n",
    "\n",
    "        if hasattr(status,\"extended_tweet\"): # check if text has been truncated\n",
    "            text = status.extended_tweet[\"full_text\"]\n",
    "        else:\n",
    "            text = status.text\n",
    "\n",
    "        is_quote = hasattr(status, \"quoted_status\") # check if this is a quote tweet.\n",
    "        quoted_text = \"\"\n",
    "        if is_quote:\n",
    "            if hasattr(status.quoted_status,\"extended_tweet\"): # check if quote has been truncated\n",
    "                quoted_text = status.quoted_status.extended_tweet[\"full_text\"]\n",
    "            else:\n",
    "                quoted_text = status.quoted_status.text\n",
    "\n",
    "        # remove end of line characters\n",
    "        text.replace(\"\\n\",\" \")\n",
    "        quoted_text.replace(\"\\n\", \" \")\n",
    "                \n",
    "        # save on json file\n",
    "        file = pathlib.Path(\"tweets_stream.json\") \n",
    "        tweet = dict(created_at=status.created_at,\n",
    "                     user_name=status.user.screen_name,\n",
    "                     retweet=is_retweet,\n",
    "                     quote=is_quote,\n",
    "                     text=text,\n",
    "                     quote_text=quoted_text)  \n",
    "        if not file.is_file():\n",
    "            with open(file, 'w') as f::\n",
    "                json.dump({\"stream\": []}, f, indent=4)\n",
    "        \n",
    "        with open(file, 'r+') as f:\n",
    "            data = json.load(f)\n",
    "            data[\"stream\"].append(tweet)\n",
    "            json.dump(data, f, indent=4)\n",
    "            \n",
    "        # save on csv file\n",
    "        file = pathlib.Path(\"tweets_stream.csv\")        \n",
    "        if not file.is_file():\n",
    "            with open(file, 'w', encoding='utf-8') as f::\n",
    "                f.write(\"created_at,user_name,retweet,quote,text,quote_text\\n\")\n",
    "                \n",
    "        with open(file, 'a', encoding='utf-8') as f:\n",
    "            f.write(f\"{status.created_at},{status.user.screen_name},{is_retweet},{is_quote},{text},{quoted_text}\\n\")            \n",
    "            \n",
    "    def on_error(self, status_code):\n",
    "        print(\"Encountered streaming error (\", status_code, \")\")\n",
    "        sys.exit()"
   ]
  },
  {
   "cell_type": "markdown",
   "metadata": {},
   "source": [
    "Retrieve tweets based on a filter"
   ]
  },
  {
   "cell_type": "code",
   "execution_count": null,
   "metadata": {},
   "outputs": [],
   "source": [
    "listener = MyStreamListener()\n",
    "stream = tweepy.Stream(auth = api.auth, listener=listener, tweet_mode='extended')\n",
    "\n",
    "# filter by keywords\n",
    "# bounding box as a pair of longitude and latitude pairs\n",
    "# track = keywords\n",
    "myStream.filter(track=['beer'], language=['en'], locations=[51.2, -0.8, 51.8, 0.5]) # London"
   ]
  }
 ],
 "metadata": {
  "kernelspec": {
   "display_name": "Python 3 (ipykernel)",
   "language": "python",
   "name": "python3"
  },
  "language_info": {
   "codemirror_mode": {
    "name": "ipython",
    "version": 3
   },
   "file_extension": ".py",
   "mimetype": "text/x-python",
   "name": "python",
   "nbconvert_exporter": "python",
   "pygments_lexer": "ipython3",
   "version": "3.8.8"
  }
 },
 "nbformat": 4,
 "nbformat_minor": 2
}
