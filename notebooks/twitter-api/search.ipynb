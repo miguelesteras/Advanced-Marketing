{
 "cells": [
  {
   "cell_type": "markdown",
   "metadata": {
    "button": false,
    "new_sheet": false,
    "run_control": {
     "read_only": false
    }
   },
   "source": [
    "# Twitter Search API  \n",
    "\n",
    "\n",
    "modified from https://realpython.com/twitter-bot-python-tweepy/  \n",
    "and https://www.storybench.org/how-to-collect-tweets-from-the-twitter-streaming-api-using-python/"
   ]
  },
  {
   "cell_type": "code",
   "execution_count": 1,
   "metadata": {},
   "outputs": [],
   "source": [
    "import pandas as pd\n",
    "import matplotlib.pyplot as plt\n",
    "import tweepy\n",
    "import pathlib\n",
    "import json\n",
    "\n",
    "with open('config.json') as f:\n",
    "    config = json.load(f)\n",
    "\n",
    "plt.style.use('seaborn-poster')\n",
    "%matplotlib inline"
   ]
  },
  {
   "cell_type": "markdown",
   "metadata": {},
   "source": [
    "### Authenticate credentials.  \n",
    "Note: All of the credentials will be removed after the lesson. You have to generate and use your own."
   ]
  },
  {
   "cell_type": "code",
   "execution_count": 2,
   "metadata": {
    "button": false,
    "new_sheet": false,
    "run_control": {
     "read_only": false
    }
   },
   "outputs": [],
   "source": [
    "auth = tweepy.AppAuthHandler(config[\"key\"], config[\"secret\"])\n",
    "\n",
    "api = tweepy.API(auth, wait_on_rate_limit=True, wait_on_rate_limit_notify=True)"
   ]
  },
  {
   "cell_type": "markdown",
   "metadata": {
    "button": false,
    "new_sheet": false,
    "run_control": {
     "read_only": false
    }
   },
   "source": [
    "Search tweets using filter such as:  \n",
    "- q: search query string of 500 characters maximum.\n",
    "- geocode: tweets by users located within a given radius of the given latitude/longitude.\n",
    "- lang: tweets on a given language\n",
    "- results_type: most popular, most recent, or mixed.\n",
    "- count: n tweets per page."
   ]
  },
  {
   "cell_type": "code",
   "execution_count": 3,
   "metadata": {
    "button": false,
    "new_sheet": false,
    "run_control": {
     "read_only": false
    }
   },
   "outputs": [
    {
     "name": "stdout",
     "output_type": "stream",
     "text": [
      "Mario Jiménez:@eledelara Estoy seguro de que el momento cerveza en mano debió ser glorioso\n",
      "Luis Martin:Las peleas de los ingleses por la gasolina…las mismas que hay en Benidorm pero por cerveza o cualquier otra cosa\n",
      "raquel 🍂:poca broma que desde que me he mudado voy a museos todas las semanas. después no falta la cerveza, pero a museos voy\n",
      "Pablo Ferradas:Una cerveza artesanal canadiense incluye una púa y unos acordes impresos. ¿Que no sé tocar la guitarra? Sujétame la… https://t.co/8fqc9kWf7i\n",
      "🎃SpookyChris🎃:@bianchibianchi8 Sorprendida? Cuando quieras nos tomamos una cerveza y comentamos saltos de eje y lo que quieras\n",
      "Espacio Madrid:BEERMAD, mercado de la Cerveza Artesana que se celebra del 9 al 12 de octubre.\n",
      "¡Ya tienes plan para el puente!… https://t.co/Tlx3vs7RUK\n",
      "Rafa Dávila:@Belen_Montes_ @terilope80 @TomavistasFest También tienes una cerveza que concertar por aquí...\n",
      "Juan Carlos Garrido:@BlueValky No hay nada como el primer amor, el primer coche y la primera cerveza (de cada día). \n",
      "Los demás llueven sobre mojado.\n",
      "😆😆\n",
      "Time Out Madrid:Hamburguesas y cerveza pura, ¿quién puede resistirse a esta combinación? ¡Vámonos de ruta con @CervezaLaVirgen! 🍻 https://t.co/fhBkMm1uos\n",
      "Cervezanía:📢 #NOVEDAD 🆕 KIT TRIPEL + PACK LATAS 🎁\n",
      "\n",
      "Aprovecha para llevarte el #PackRecompensa a precio de risa 😱 al comprar el… https://t.co/A3wbfCIWaD\n",
      "📢 Hinchas Móstoles CF 🥁:Os esperamos en el Andrés Torrejón cualquier Domingo por la mañana para que disfrutéis de fútbol auténtico. Nos ven… https://t.co/KGD5jcoG1Z\n",
      "🐐 KABRITA🐐 🇳🇬 🇦🇲:@rniguelangel Feliz día de la cerveza I guess\n",
      "viajestic:Costa Brava, cerveza artesana y música ¿qué más se puede pedir?\n",
      "https://t.co/ZQ8Isc5JkR https://t.co/1fxPd6MxOY\n",
      "⚰️𝓟𝓮𝓽𝓮𝓻 𝓣𝓻𝓸𝔂 🎃🕸️:Dos horas trabajando en el bosque, ahora toca la cerveza del medio día\n",
      "cris:@notNe0 creo que es como una mezcla de no sé si cerveza o vodka y jengibre que tiene el picante y el ácido por eso la lima supongo\n",
      "Irrissssssssssssssssss:@jorgisimo__ Alli nos vemos, espero tomarme una cerveza con usted\n",
      "AS Audio:🎙 Localizar el 'Infrafútbol' es tan fácil como oler un bocadillo de fritanga, disfrutar del sabor metálico de una l… https://t.co/arO3lEITTj\n",
      "Roberto Garcia:@pedrojotaabu Bocadillo de calamares y una jarra de cerveza negra.\n",
      "Ayuntamiento de Boadilla del Monte:🍷No te pierdas este sábado, en los Jardines del Palacio, la carne, cerveza, verduras, hortalizas, lácteos, pan, dul… https://t.co/8jZqcUS02D\n",
      "MalaYerba🌱:Y ahora voy a beberme una cerveza fea de grande\n"
     ]
    }
   ],
   "source": [
    "#lang: # https://en.wikipedia.org/wiki/List_of_ISO_639-1_codes\n",
    "#since=\"2020-01-01\"\n",
    "#result_type=\"popular\", # mixed, recent\n",
    "\n",
    "for tweet in api.search(q=\"cerveza\", lang=\"es\", count=20, geocode='40.4167,-3.7037,510km'):\n",
    "    print(f\"{tweet.user.name}:{tweet.text}\")"
   ]
  },
  {
   "cell_type": "code",
   "execution_count": 4,
   "metadata": {},
   "outputs": [
    {
     "name": "stdout",
     "output_type": "stream",
     "text": [
      "CraftBeerChannel:We think we've under-represented that side of craft beer. And now, with the fate of cask, pubs and indeed British f… https://t.co/FHtF39X0PL\n",
      "LM. ⭐⭐:@biggenbill @northalcfc bloke deserves never having to buy a beer again after saving that dog\n",
      "Leigh on Sea Brewery:Feeling very honoured to be included in the fantastic new book from @JonnyGarrett &amp; @CAMRA_Official\n",
      "\"A Year in Beer… https://t.co/C4ka2pmZ0s\n",
      "J Hustl3:@R4g3Kw1t @JuniorParadot_ Oh it was a heavy one 🥸 we must beer soon! 😘\n",
      "Spartan Brewery:@hines_stephen I'll give you a clue... we'd normally use around 5kg of pellets in a beer like this 😁\n",
      "\n",
      "Volume-wise,… https://t.co/BKupGOCMQN\n",
      "UNLTD.:5 star review from Nicholas E.: Great beer https://t.co/BUfoEMHTEN\n",
      "LDN Beer Dispensary:Just posted a photo @ London Beer Dispensary https://t.co/x3Qmo5RWSJ\n",
      "Charlotte Cook:@CharlieVivante I’m about all day for the brewers lectures if you want a beer or a coffee\n",
      "Times Travel:For those who like a drink 🍻\n",
      "\n",
      "\"The pretty market town of Faversham, on the high-speed rail line from London, serves… https://t.co/8oYzCXaCFE\n",
      "danny watson:tesco have sold out of marmite beer\n",
      "Spartan Brewery:#GreenHops in the kettle. Anyone want to hazard a guess as to the amount of fresh hops (in kg) we used to make arou… https://t.co/P9NFgTyMga\n",
      "Zach the Avocado 🥑:I received some freebies in this weeks @HelloFreshUK order which was very unexpected and very nice... a can of beer… https://t.co/bI9lYTH6XR\n",
      "Carling Partnership:Brewer saves business by making beer from Yorkshire puddings https://t.co/kUfGWDR16y\n",
      "MusicianMattie:@bbcr1 you gotta take into account, you kniow, the benefits of schmoozing occasionally, you can schmooze with a bee… https://t.co/WTJeExx6Sg\n",
      "The Cow:PINTS FOR PRINTS ANYONE? HELLS YEAH!!! 🍻 \n",
      "\n",
      "Order your @CamdenBrewery beer on the @YoungsPubs On Tap app, collect 3… https://t.co/I6SRrmQHG4\n",
      "Steve Krouskos:Resilient growth led @abinbev CEO Carlos Brito to build the biggest beer company on the planet! Great interview wit… https://t.co/1HRAz9D0Cg\n",
      "Hoe St Market:If you haven’t heard of @Tap2Tap_E17, they provide walking tours of local breweries and really know their beer (yea… https://t.co/SLQKn7WJC9\n",
      "Rob:@cjbearcpfc Ten years in the Prem. Anyone with a season ticket for that time will have 5500 points. Add away games,… https://t.co/GsVduYh7Sw\n",
      "MusicianMattie:@bbcr1 ohr, beer goat, anti everything..\n",
      "🦖 Richard Dunstan (barf) 🦖:Keir Starmer, Rachel Reeves: \"Damn, we really screwed up trying to answer those questions about the cervix thing, d… https://t.co/jfQHyZ7tkq\n"
     ]
    }
   ],
   "source": [
    "for tweet in api.search(q=\"beer\", lang=\"en\", count=20, geocode='51.5074,0.1278,100km'):\n",
    "    print(f\"{tweet.user.name}:{tweet.text}\")"
   ]
  },
  {
   "cell_type": "code",
   "execution_count": null,
   "metadata": {},
   "outputs": [],
   "source": []
  }
 ],
 "metadata": {
  "kernelspec": {
   "display_name": "Python 3 (ipykernel)",
   "language": "python",
   "name": "python3"
  },
  "language_info": {
   "codemirror_mode": {
    "name": "ipython",
    "version": 3
   },
   "file_extension": ".py",
   "mimetype": "text/x-python",
   "name": "python",
   "nbconvert_exporter": "python",
   "pygments_lexer": "ipython3",
   "version": "3.8.8"
  }
 },
 "nbformat": 4,
 "nbformat_minor": 2
}
