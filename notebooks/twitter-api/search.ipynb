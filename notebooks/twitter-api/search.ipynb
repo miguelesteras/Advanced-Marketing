{
 "cells": [
  {
   "cell_type": "markdown",
   "metadata": {
    "button": false,
    "new_sheet": false,
    "run_control": {
     "read_only": false
    }
   },
   "source": [
    "# Twitter Search API  \n",
    "\n",
    "\n",
    "modified from https://realpython.com/twitter-bot-python-tweepy/  \n",
    "and https://www.storybench.org/how-to-collect-tweets-from-the-twitter-streaming-api-using-python/"
   ]
  },
  {
   "cell_type": "code",
   "execution_count": null,
   "metadata": {},
   "outputs": [],
   "source": [
    "import pandas as pd\n",
    "import matplotlib.pyplot as plt\n",
    "import tweepy\n",
    "import pathlib\n",
    "import json\n",
    "\n",
    "with open('config.json') as f:\n",
    "    config = json.load(f)\n",
    "\n",
    "plt.style.use('seaborn-poster')\n",
    "%matplotlib inline"
   ]
  },
  {
   "cell_type": "markdown",
   "metadata": {},
   "source": [
    "### Authenticate credentials.  \n",
    "Note: All of the credentials will be removed after the lesson. You have to generate and use your own."
   ]
  },
  {
   "cell_type": "code",
   "execution_count": null,
   "metadata": {
    "button": false,
    "new_sheet": false,
    "run_control": {
     "read_only": false
    }
   },
   "outputs": [],
   "source": [
    "auth = tweepy.AppAuthHandler(config[\"key\"], config[\"secret\"])\n",
    "\n",
    "api = tweepy.API(auth, wait_on_rate_limit=True, wait_on_rate_limit_notify=True)"
   ]
  },
  {
   "cell_type": "markdown",
   "metadata": {
    "button": false,
    "new_sheet": false,
    "run_control": {
     "read_only": false
    }
   },
   "source": [
    "Search tweets using filter such as:  \n",
    "- q: search query string of 500 characters maximum.\n",
    "- geocode: tweets by users located within a given radius of the given latitude/longitude.\n",
    "- lang: tweets on a given language\n",
    "- results_type: most popular, most recent, or mixed.\n",
    "- count: n tweets per page."
   ]
  },
  {
   "cell_type": "code",
   "execution_count": null,
   "metadata": {
    "button": false,
    "new_sheet": false,
    "run_control": {
     "read_only": false
    }
   },
   "outputs": [],
   "source": [
    "#lang: # https://en.wikipedia.org/wiki/List_of_ISO_639-1_codes\n",
    "#since=\"2020-01-01\"\n",
    "#result_type=\"popular\", # mixed, recent\n",
    "\n",
    "for tweet in api.search(q=\"cerveza\", lang=\"es\", count=20, geocode='40.4167,-3.7037,510km'):\n",
    "    print(f\"{tweet.user.name}:{tweet.text}\")"
   ]
  },
  {
   "cell_type": "code",
   "execution_count": null,
   "metadata": {},
   "outputs": [],
   "source": [
    "for tweet in api.search(q=\"beer\", lang=\"en\", count=20, geocode='51.5074,0.1278,100km'):\n",
    "    print(f\"{tweet.user.name}:{tweet.text}\")"
   ]
  }
 ],
 "metadata": {
  "kernelspec": {
   "display_name": "Python 3 (ipykernel)",
   "language": "python",
   "name": "python3"
  },
  "language_info": {
   "codemirror_mode": {
    "name": "ipython",
    "version": 3
   },
   "file_extension": ".py",
   "mimetype": "text/x-python",
   "name": "python",
   "nbconvert_exporter": "python",
   "pygments_lexer": "ipython3",
   "version": "3.8.8"
  }
 },
 "nbformat": 4,
 "nbformat_minor": 2
}
