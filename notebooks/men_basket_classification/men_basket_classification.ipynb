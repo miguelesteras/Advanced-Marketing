{
 "cells": [
  {
   "cell_type": "markdown",
   "metadata": {
    "button": false,
    "new_sheet": false,
    "run_control": {
     "read_only": false
    }
   },
   "source": [
    "# Men Classification Model"
   ]
  },
  {
   "cell_type": "code",
   "execution_count": 19,
   "metadata": {},
   "outputs": [],
   "source": [
    "import pandas as pd\n",
    "import numpy as np\n",
    "import matplotlib.pyplot as plt\n",
    "from sklearn.metrics import classification_report\n",
    "\n",
    "plt.style.use('seaborn-poster')\n",
    "%matplotlib inline"
   ]
  },
  {
   "cell_type": "markdown",
   "metadata": {},
   "source": [
    "The data contains the count of items of a particular category bought per year by a costumer."
   ]
  },
  {
   "cell_type": "code",
   "execution_count": 20,
   "metadata": {
    "button": false,
    "new_sheet": false,
    "run_control": {
     "read_only": false
    }
   },
   "outputs": [
    {
     "name": "stdout",
     "output_type": "stream",
     "text": [
      "   beer  cookies   pizza  wine    label\n",
      "0  55.0     23.0  15.000  13.0  partner\n",
      "1  65.0     30.0  19.500  20.0   single\n",
      "2  68.0     32.0  22.125  23.0   single\n",
      "3  57.0     26.0  13.125  10.0  partner\n",
      "4  73.0     29.0  23.625  18.0   single\n",
      "We have 100 data samples with 4 features\n"
     ]
    }
   ],
   "source": [
    "# import the data\n",
    "data = pd.read_csv(\"men_basket.csv\")\n",
    "\n",
    "# only print the first 10 samples\n",
    "print(data.head())\n",
    "print(f'We have {data.shape[0]} data samples with {data.shape[1] - 1} features')"
   ]
  },
  {
   "cell_type": "markdown",
   "metadata": {
    "button": false,
    "new_sheet": false,
    "run_control": {
     "read_only": false
    }
   },
   "source": [
    "Report some descriptive statistics and print labels"
   ]
  },
  {
   "cell_type": "code",
   "execution_count": 3,
   "metadata": {
    "button": false,
    "new_sheet": false,
    "run_control": {
     "read_only": false
    }
   },
   "outputs": [
    {
     "name": "stdout",
     "output_type": "stream",
     "text": [
      "             beer    cookies       pizza        wine\n",
      "count  100.000000  100.00000  100.000000  100.000000\n",
      "mean    62.620000   28.72000   12.265000   16.760000\n",
      "std      6.628344    3.32751    2.063946    4.247685\n",
      "min     49.000000   20.00000    7.500000   10.000000\n",
      "25%     58.000000   27.00000   10.937500   13.000000\n",
      "50%     63.000000   29.00000   12.250000   16.000000\n",
      "75%     67.000000   30.25000   13.812500   20.000000\n",
      "max     79.000000   38.00000   17.250000   25.000000\n"
     ]
    },
    {
     "data": {
      "text/plain": [
       "array(['partner', 'single'], dtype=object)"
      ]
     },
     "execution_count": 3,
     "metadata": {},
     "output_type": "execute_result"
    }
   ],
   "source": [
    "print(data.describe())\n",
    "data['label'].unique()"
   ]
  },
  {
   "cell_type": "raw",
   "metadata": {
    "button": false,
    "new_sheet": false,
    "run_control": {
     "read_only": false
    }
   },
   "source": [
    "Create a input feature matrix $X$ and and a target vector $y$. We start by using only 2 features, so it is easy to visualize "
   ]
  },
  {
   "cell_type": "code",
   "execution_count": 4,
   "metadata": {
    "button": false,
    "new_sheet": false,
    "run_control": {
     "read_only": false
    }
   },
   "outputs": [],
   "source": [
    "X = data[[\"beer\", \"pizza\"]]\n",
    "y = data[\"label\"]"
   ]
  },
  {
   "cell_type": "markdown",
   "metadata": {
    "button": false,
    "new_sheet": false,
    "run_control": {
     "read_only": false
    }
   },
   "source": [
    "If possible, we would like to explore the data before modeling.  \n",
    "The boundary between the classes seems to be almost linear. That should tell us the type of model we want to use to separete ('classify') this samples. "
   ]
  },
  {
   "cell_type": "code",
   "execution_count": 5,
   "metadata": {
    "button": false,
    "new_sheet": false,
    "run_control": {
     "read_only": false
    }
   },
   "outputs": [
    {
     "data": {
      "image/png": "[encoded data removed]",
      "text/plain": [
       "<Figure size 720x576 with 1 Axes>"
      ]
     },
     "metadata": {
      "needs_background": "light"
     },
     "output_type": "display_data"
    }
   ],
   "source": [
    "# let's have a look of the data first\n",
    "colors = ['g', 'r']\n",
    "symbols = ['^', '*']\n",
    "plt.figure(figsize = (10,8))\n",
    "\n",
    "for l, c, s in (zip(y.unique(), colors, symbols)):\n",
    "    plt.scatter(X[\"pizza\"][y == l], X[\"beer\"][y == l], \\\n",
    "                color = c, marker = s, s = 60, \\\n",
    "                label = l)\n",
    "\n",
    "plt.legend(loc = 2, scatterpoints = 1)\n",
    "plt.xlabel(\"n_pizza / year\")\n",
    "plt.ylabel(\"n_beer / year\")\n",
    "plt.show()"
   ]
  },
  {
   "cell_type": "markdown",
   "metadata": {
    "button": false,
    "new_sheet": false,
    "run_control": {
     "read_only": false
    }
   },
   "source": [
    "We will use now a model from scikit-learn called NaiveBayes. You can read more about it at:  \n",
    "https://scikit-learn.org/stable/modules/naive_bayes.html#gaussian-naive-bayes\n",
    "\n",
    "\n",
    "The API is similar for most algorithms in scikit-learn:  \n",
    "**Step 1:** initialize the model  \n",
    "**Step 2:** train the model using the *fit* function  \n",
    "**Step 3:** predict using the *predict* function  "
   ]
  },
  {
   "cell_type": "code",
   "execution_count": 41,
   "metadata": {
    "button": false,
    "new_sheet": false,
    "run_control": {
     "read_only": false
    }
   },
   "outputs": [
    {
     "name": "stdout",
     "output_type": "stream",
     "text": [
      "['partner' 'single' 'single' 'partner' 'single' 'single' 'partner'\n",
      " 'single' 'single' 'partner' 'partner' 'partner' 'partner' 'partner'\n",
      " 'partner' 'single' 'single' 'partner' 'partner' 'partner' 'partner'\n",
      " 'single' 'single' 'partner' 'partner' 'single' 'partner' 'single'\n",
      " 'single' 'single' 'single' 'single' 'single' 'single' 'single' 'single'\n",
      " 'partner' 'partner' 'single' 'partner' 'single' 'partner' 'single'\n",
      " 'partner' 'single' 'single' 'partner' 'partner' 'partner' 'single'\n",
      " 'single' 'partner' 'partner' 'single' 'single' 'single' 'partner'\n",
      " 'single' 'single' 'single' 'single' 'single' 'single' 'single' 'single'\n",
      " 'partner' 'single' 'partner' 'partner' 'partner' 'single' 'single'\n",
      " 'single' 'partner' 'single' 'partner' 'single' 'partner' 'partner'\n",
      " 'partner' 'single' 'partner' 'single' 'partner' 'partner' 'partner'\n",
      " 'partner' 'partner' 'partner' 'partner' 'partner' 'partner' 'partner'\n",
      " 'partner' 'partner' 'partner' 'single' 'partner' 'single' 'single']\n"
     ]
    }
   ],
   "source": [
    "from sklearn.naive_bayes import GaussianNB\n",
    "\n",
    "# Initialize the classifier model\n",
    "clf = GaussianNB()\n",
    "\n",
    "# Train the classifier with data\n",
    "clf.fit(X,y)\n",
    "\n",
    "# predict on the data\n",
    "y_hat = clf.predict(X)\n",
    "print(y_hat)"
   ]
  },
  {
   "cell_type": "markdown",
   "metadata": {
    "button": false,
    "new_sheet": false,
    "run_control": {
     "read_only": false
    }
   },
   "source": [
    "We plot the decision boundary for the model"
   ]
  },
  {
   "cell_type": "code",
   "execution_count": 40,
   "metadata": {
    "button": false,
    "new_sheet": false,
    "run_control": {
     "read_only": false
    }
   },
   "outputs": [
    {
     "data": {
      "image/png": "[encoded data removed]",
      "text/plain": [
       "<Figure size 720x576 with 1 Axes>"
      ]
     },
     "metadata": {
      "needs_background": "light"
     },
     "output_type": "display_data"
    }
   ],
   "source": [
    "# Plotting decision regions\n",
    "\n",
    "x_min, x_max = X[\"pizza\"].min() - 1, X[\"pizza\"].max() + 1\n",
    "y_min, y_max = X[\"beer\"].min() - 1, X[\"beer\"].max() + 1   \n",
    "xx, yy = np.meshgrid(np.arange(x_min, x_max, 0.02),\n",
    "                     np.arange(y_min, y_max, 0.02))\n",
    "\n",
    "Z = clf.predict_proba(np.c_[yy.ravel(), xx.ravel()])[:, 1]\n",
    "Z = Z.reshape(xx.shape)\n",
    "\n",
    "plt.figure(figsize = (10, 8))\n",
    "plt.contourf(xx, yy, Z, cmap=plt.cm.RdBu, alpha=.3)\n",
    "\n",
    "for l, c, s in (zip(y.unique(), colors, symbols)):\n",
    "    plt.scatter(X[\"pizza\"][y == l], X[\"beer\"][y == l], \\\n",
    "                color = c, marker = s, s = 60, \\\n",
    "                label = l)\n",
    "\n",
    "plt.title(\"Men Classification\")\n",
    "\n",
    "plt.xlabel('n_pizza')\n",
    "plt.ylabel('n_beer')\n",
    "plt.show()\n"
   ]
  },
  {
   "cell_type": "markdown",
   "metadata": {
    "button": false,
    "new_sheet": false,
    "run_control": {
     "read_only": false
    }
   },
   "source": [
    "The linear boundary found by the model is good, as it can separete most of the samples.  \n",
    "How could you report 'how good' the model is?"
   ]
  },
  {
   "cell_type": "code",
   "execution_count": null,
   "metadata": {},
   "outputs": [],
   "source": []
  }
 ],
 "metadata": {
  "kernelspec": {
   "display_name": "Python 3 (ipykernel)",
   "language": "python",
   "name": "python3"
  },
  "language_info": {
   "codemirror_mode": {
    "name": "ipython",
    "version": 3
   },
   "file_extension": ".py",
   "mimetype": "text/x-python",
   "name": "python",
   "nbconvert_exporter": "python",
   "pygments_lexer": "ipython3",
   "version": "3.8.8"
  }
 },
 "nbformat": 4,
 "nbformat_minor": 2
}
