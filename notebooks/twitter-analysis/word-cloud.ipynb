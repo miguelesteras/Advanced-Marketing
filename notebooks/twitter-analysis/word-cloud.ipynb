{
 "cells": [
  {
   "cell_type": "markdown",
   "id": "0e9ad5d2",
   "metadata": {},
   "source": [
    "# Word Clouds from Covid-19 tweets"
   ]
  },
  {
   "cell_type": "code",
   "execution_count": null,
   "id": "41ff2218",
   "metadata": {},
   "outputs": [],
   "source": [
    "import numpy as np \n",
    "import pandas as pd\n",
    "import matplotlib\n",
    "import seaborn as sns\n",
    "import matplotlib.pyplot as plt\n",
    "from wordcloud import WordCloud, STOPWORDS\n",
    "\n",
    "plt.style.use('seaborn-poster')\n",
    "%matplotlib inline\n",
    "plt.rcParams['figure.figsize'] = 12, 6"
   ]
  },
  {
   "cell_type": "markdown",
   "id": "e712104c",
   "metadata": {},
   "source": [
    "### Explore table"
   ]
  },
  {
   "cell_type": "code",
   "execution_count": null,
   "id": "069cefce",
   "metadata": {},
   "outputs": [],
   "source": [
    "tweets_df = pd.read_csv(\"covid19_tweets.csv\", parse_dates=['user_created', 'date'])\n",
    "tweets_df.info()"
   ]
  },
  {
   "cell_type": "code",
   "execution_count": null,
   "id": "3966d139",
   "metadata": {},
   "outputs": [],
   "source": [
    "tweets_df.head()"
   ]
  },
  {
   "cell_type": "markdown",
   "id": "6aa907e4",
   "metadata": {},
   "source": [
    "### Detect missing values"
   ]
  },
  {
   "cell_type": "code",
   "execution_count": null,
   "id": "4293b328",
   "metadata": {},
   "outputs": [],
   "source": [
    "tweets_df.isna().sum()"
   ]
  },
  {
   "cell_type": "code",
   "execution_count": null,
   "id": "199a3b23",
   "metadata": {},
   "outputs": [],
   "source": [
    "missing_values = pd.DataFrame()\n",
    "missing_values['column'] = tweets_df.columns\n",
    "\n",
    "missing_values['percent'] = [round(100* tweets_df[col].isnull().sum() / len(tweets_df), 2) for col in tweets_df.columns]\n",
    "missing_values = missing_values.sort_values('percent')\n",
    "missing_values = missing_values[missing_values['percent']>0]\n",
    "\n",
    "plt.figure(figsize=(15, 5))\n",
    "sns.set(style='whitegrid', color_codes=True)\n",
    "splot=sns.barplot(x='column', y='percent', data=missing_values)\n",
    "for p in splot.patches:\n",
    "    splot.annotate(format(p.get_height(), '.2f'), (p.get_x() + p.get_width() / 2., p.get_height()), ha = 'center',\n",
    "                   va = 'center', xytext = (0, 9), textcoords = 'offset points')\n",
    "plt.xlabel(\"Column_Name\", size=14, weight=\"bold\")\n",
    "plt.ylabel(\"Percentage\", size=14, weight=\"bold\")\n",
    "plt.title(\"Percentage of missing values in column\",fontweight=\"bold\",size=17)\n",
    "plt.show()"
   ]
  },
  {
   "cell_type": "markdown",
   "id": "161f7c19",
   "metadata": {},
   "source": [
    "### Explore Data Distributions"
   ]
  },
  {
   "cell_type": "code",
   "execution_count": null,
   "id": "40a41862",
   "metadata": {},
   "outputs": [],
   "source": [
    "def plot_count(feature, title, df, size=1, ordered=True):\n",
    "    f, ax = plt.subplots(1,1, figsize=(4*size,4))\n",
    "    total = float(len(df))\n",
    "    if ordered:\n",
    "        g = sns.countplot(x=df[feature], order = df[feature].value_counts().index[:20], color='forestgreen')\n",
    "    else:\n",
    "        g = sns.countplot(x=df[feature], color='forestgreen')\n",
    "    g.set_title(\"Number and percentage of {}\".format(title))\n",
    "    if(size > 2):\n",
    "        plt.xticks(rotation=90, size=12)\n",
    "    for p in ax.patches:\n",
    "        height = p.get_height()\n",
    "        ax.text(p.get_x()+p.get_width()/2., height + 3, '{:1.2f}%'.format(100*height/total), ha=\"center\") \n",
    "    plt.show()"
   ]
  },
  {
   "cell_type": "code",
   "execution_count": null,
   "id": "fcb59925",
   "metadata": {},
   "outputs": [],
   "source": [
    "plot_count(\"user_name\", \"User name\", tweets_df,4)"
   ]
  },
  {
   "cell_type": "code",
   "execution_count": null,
   "id": "65817146",
   "metadata": {},
   "outputs": [],
   "source": [
    "plot_count(\"user_location\", \"User location\", tweets_df,4)"
   ]
  },
  {
   "cell_type": "code",
   "execution_count": null,
   "id": "84624e91",
   "metadata": {},
   "outputs": [],
   "source": [
    "plot_count(\"source\", \"Source\", tweets_df,4)"
   ]
  },
  {
   "cell_type": "code",
   "execution_count": null,
   "id": "33cc20ba",
   "metadata": {},
   "outputs": [],
   "source": [
    "date_count = tweets_df['date'].dt.date.value_counts().reset_index()\n",
    "date_count.columns = ['date', 'count']\n",
    "\n",
    "sns.lineplot(x=\"date\", y=\"count\", data=date_count)\n",
    "plt.xticks(rotation=30)\n",
    "plt.show"
   ]
  },
  {
   "cell_type": "code",
   "execution_count": null,
   "id": "fb9ea74a",
   "metadata": {},
   "outputs": [],
   "source": [
    "times = tweets_df['date'][tweets_df['user_location'].isin([\"London, England\", \"London\"])]\n",
    "times = times.groupby([times.dt.hour]).count()\n",
    "time_count = pd.DataFrame({'time': times.index,\n",
    "                           'count': times.values})\n",
    "sns.barplot(x=\"time\", y=\"count\", data=time_count, color='forestgreen')\n",
    "plt.xticks(rotation=30)\n",
    "plt.show"
   ]
  },
  {
   "cell_type": "markdown",
   "id": "7d030716",
   "metadata": {},
   "source": [
    "#### Which other information you think we should plot to better understand the data?  \n",
    "  \n",
    "  \n",
    "  "
   ]
  },
  {
   "cell_type": "markdown",
   "id": "06dd3b75",
   "metadata": {},
   "source": [
    "### Visualize Word Clouds"
   ]
  },
  {
   "cell_type": "code",
   "execution_count": null,
   "id": "78e10c85",
   "metadata": {},
   "outputs": [],
   "source": [
    "def show_wordcloud(data, title = None):\n",
    "    wordcloud = WordCloud(\n",
    "        background_color='white',\n",
    "        stopwords=set(STOPWORDS),\n",
    "        max_words=50,\n",
    "        max_font_size=40, \n",
    "        scale=5,\n",
    "        random_state=1\n",
    "    ).generate(str(data))\n",
    "\n",
    "    fig = plt.figure(1, figsize=(10,10))\n",
    "    plt.axis('off')\n",
    "    if title: \n",
    "        fig.suptitle(title, fontsize=20)\n",
    "        fig.subplots_adjust(top=2.3)\n",
    "\n",
    "    plt.imshow(wordcloud)\n",
    "    plt.show()"
   ]
  },
  {
   "cell_type": "code",
   "execution_count": null,
   "id": "b97d9b82",
   "metadata": {},
   "outputs": [],
   "source": [
    "show_wordcloud(tweets_df['text'], title = 'Common words in tweets')"
   ]
  },
  {
   "cell_type": "code",
   "execution_count": null,
   "id": "4cfc427d",
   "metadata": {},
   "outputs": [],
   "source": [
    "london_tweets = tweets_df['text'][tweets_df[\"user_location\"].isin([\"London, England\", \"London\"])]\n",
    "show_wordcloud(london_tweets, title = 'Common words in tweets from London')"
   ]
  },
  {
   "cell_type": "code",
   "execution_count": null,
   "id": "ca5de1dd",
   "metadata": {},
   "outputs": [],
   "source": []
  }
 ],
 "metadata": {
  "kernelspec": {
   "display_name": "Python 3 (ipykernel)",
   "language": "python",
   "name": "python3"
  },
  "language_info": {
   "codemirror_mode": {
    "name": "ipython",
    "version": 3
   },
   "file_extension": ".py",
   "mimetype": "text/x-python",
   "name": "python",
   "nbconvert_exporter": "python",
   "pygments_lexer": "ipython3",
   "version": "3.8.8"
  }
 },
 "nbformat": 4,
 "nbformat_minor": 5
}
